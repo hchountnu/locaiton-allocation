{
 "cells": [
  {
   "cell_type": "markdown",
   "id": "caf8ef5b",
   "metadata": {},
   "source": [
    "# Python Locaiton Allocaiton by Enumerate"
   ]
  },
  {
   "cell_type": "markdown",
   "id": "1d3973e9",
   "metadata": {},
   "source": [
    "輸入資料\n",
    "C: cost 矩陣 row 為客戶, column 為 設施"
   ]
  },
  {
   "cell_type": "code",
   "execution_count": 1,
   "id": "3d29228e",
   "metadata": {},
   "outputs": [],
   "source": [
    "c = [[ 2, 3, 6, 7, 1],\n",
    "     [ 0, 5, 8, 4,12],\n",
    "     [11, 6,14, 5, 8],\n",
    "     [19,18,21,16,13],\n",
    "     [ 3, 9, 8, 7,10],\n",
    "     [ 4, 7, 9, 6, 0]]\n",
    "\n",
    "f =[12,5,3,7,9]"
   ]
  },
  {
   "cell_type": "markdown",
   "id": "deaed785",
   "metadata": {},
   "source": [
    "## 1-median 程式"
   ]
  },
  {
   "cell_type": "code",
   "execution_count": 2,
   "id": "84ccbcc7",
   "metadata": {},
   "outputs": [],
   "source": [
    "mp_1 = 9999\n",
    "mp_1_site = 0\n",
    "for j in range(len(c[0])):\n",
    "     total = 0\n",
    "     for i in range(len(c)):\n",
    "         total += c[i][j]\n",
    "     if total < mp_1:\n",
    "         mp_1 = total\n",
    "         mp_1_site = j"
   ]
  },
  {
   "cell_type": "markdown",
   "id": "38a634b9",
   "metadata": {},
   "source": [
    "察看結果"
   ]
  },
  {
   "cell_type": "code",
   "execution_count": 3,
   "id": "7f08ae54",
   "metadata": {},
   "outputs": [
    {
     "data": {
      "text/plain": [
       "(39, 0)"
      ]
     },
     "execution_count": 3,
     "metadata": {},
     "output_type": "execute_result"
    }
   ],
   "source": [
    "mp_1,mp_1_site"
   ]
  },
  {
   "cell_type": "markdown",
   "id": "28e97d8c",
   "metadata": {},
   "source": [
    "## 2-median程式\n",
    "使用兩層的迴圈"
   ]
  },
  {
   "cell_type": "code",
   "execution_count": 4,
   "id": "7d6bc74f",
   "metadata": {},
   "outputs": [],
   "source": [
    "# 2-MP \n",
    "mp_2 = 9999\n",
    "mp_2_site = [0,1]\n",
    "for j1 in range(len(c[0])-1):\n",
    "    for j2 in range(j1+1,len(c[0])):\n",
    "          total = 0\n",
    "          for i in range(len(c)):\n",
    "              if c[i][j1] <= c[i][j2]:\n",
    "                  total += c[i][j1]\n",
    "              else:\n",
    "                  total += c[i][j2]\n",
    "          if total < mp_2:\n",
    "              mp_2 = total\n",
    "              mp_2_site = [j1,j2]"
   ]
  },
  {
   "cell_type": "markdown",
   "id": "ab5b6057",
   "metadata": {},
   "source": [
    "察看結果"
   ]
  },
  {
   "cell_type": "code",
   "execution_count": 5,
   "id": "5a90659d",
   "metadata": {},
   "outputs": [
    {
     "data": {
      "text/plain": [
       "(25, [0, 4])"
      ]
     },
     "execution_count": 5,
     "metadata": {},
     "output_type": "execute_result"
    }
   ],
   "source": [
    "mp_2,mp_2_site"
   ]
  },
  {
   "cell_type": "markdown",
   "id": "67a494fb",
   "metadata": {},
   "source": [
    "## 3-median程式\n",
    "須要三層迴圈"
   ]
  },
  {
   "cell_type": "code",
   "execution_count": 6,
   "id": "113db016",
   "metadata": {},
   "outputs": [],
   "source": [
    "# 3-MP 使用 min()    \n",
    "mp_3 = 9999\n",
    "mp_3_site = [0,1,2]\n",
    "for j1 in range(len(c[0])-2):\n",
    "    for j2 in range(j1+1,len(c[0])-1):\n",
    "        for j3 in range(j2+1,len(c[0])):\n",
    "            total = 0\n",
    "            for i in range(len(c)):\n",
    "                total += min(c[i][j1],c[i][j2],c[i][j3])\n",
    "            if total < mp_3:\n",
    "                mp_3 = total\n",
    "                mp_3_site = [j1,j2,j3]"
   ]
  },
  {
   "cell_type": "markdown",
   "id": "046bd27b",
   "metadata": {},
   "source": [
    "察看結果"
   ]
  },
  {
   "cell_type": "code",
   "execution_count": 7,
   "id": "27c83172",
   "metadata": {},
   "outputs": [
    {
     "data": {
      "text/plain": [
       "(22, [0, 3, 4])"
      ]
     },
     "execution_count": 7,
     "metadata": {},
     "output_type": "execute_result"
    }
   ],
   "source": [
    "mp_3,mp_3_site"
   ]
  },
  {
   "cell_type": "markdown",
   "id": "812215b8",
   "metadata": {},
   "source": [
    "## 生成所有組合的函數\n",
    "用迴圈寫法，p-median 迴圈的次數為p，無法一般化。\n",
    "須要一個能夠產生所有組合的方法。\n",
    "輸入集合的元素個數後，下面函數先產生所有可能的子集的數字註標"
   ]
  },
  {
   "cell_type": "code",
   "execution_count": 8,
   "id": "6d884377",
   "metadata": {},
   "outputs": [],
   "source": [
    "# 產生所有子集的函數\n",
    "\n",
    "def powerset (n):\n",
    "    subset = [[]]\n",
    "    for i in range(n):\n",
    "        subset_tmp = []\n",
    "        for j in subset:\n",
    "            tmp = j + [i]\n",
    "            subset_tmp.append(tmp)\n",
    "        subset += subset_tmp\n",
    "    return subset"
   ]
  },
  {
   "cell_type": "markdown",
   "id": "3334d99b",
   "metadata": {},
   "source": [
    "試用 powerset"
   ]
  },
  {
   "cell_type": "code",
   "execution_count": 9,
   "id": "a8968839",
   "metadata": {
    "scrolled": true
   },
   "outputs": [
    {
     "data": {
      "text/plain": [
       "[[],\n",
       " [0],\n",
       " [1],\n",
       " [0, 1],\n",
       " [2],\n",
       " [0, 2],\n",
       " [1, 2],\n",
       " [0, 1, 2],\n",
       " [3],\n",
       " [0, 3],\n",
       " [1, 3],\n",
       " [0, 1, 3],\n",
       " [2, 3],\n",
       " [0, 2, 3],\n",
       " [1, 2, 3],\n",
       " [0, 1, 2, 3],\n",
       " [4],\n",
       " [0, 4],\n",
       " [1, 4],\n",
       " [0, 1, 4],\n",
       " [2, 4],\n",
       " [0, 2, 4],\n",
       " [1, 2, 4],\n",
       " [0, 1, 2, 4],\n",
       " [3, 4],\n",
       " [0, 3, 4],\n",
       " [1, 3, 4],\n",
       " [0, 1, 3, 4],\n",
       " [2, 3, 4],\n",
       " [0, 2, 3, 4],\n",
       " [1, 2, 3, 4],\n",
       " [0, 1, 2, 3, 4]]"
      ]
     },
     "execution_count": 9,
     "metadata": {},
     "output_type": "execute_result"
    }
   ],
   "source": [
    "powerset(5)"
   ]
  },
  {
   "cell_type": "markdown",
   "id": "7bd30e0f",
   "metadata": {},
   "source": [
    "powerset 函數可以改的更為簡潔的 powerset2"
   ]
  },
  {
   "cell_type": "code",
   "execution_count": 10,
   "id": "be057100",
   "metadata": {},
   "outputs": [],
   "source": [
    "# 產生所有子集，較為簡潔的寫法\n",
    "\n",
    "def powerset2 (n):\n",
    "    subset = [[]]\n",
    "    for i in range(n):\n",
    "        subset_tmp = [j + [i] for j in subset]\n",
    "        subset += subset_tmp\n",
    "    return subset"
   ]
  },
  {
   "cell_type": "markdown",
   "id": "8a8c71f2",
   "metadata": {},
   "source": [
    "利用powset產生所有子集後，選出指定的rank的子集，得到n選m的組合"
   ]
  },
  {
   "cell_type": "code",
   "execution_count": 11,
   "id": "d40b4334",
   "metadata": {},
   "outputs": [],
   "source": [
    "# 產生排列組合 n:所有數 m:選取數\n",
    "\n",
    "def enmu (n,m):\n",
    "    subset = [[]]\n",
    "    for i in range(n):\n",
    "        subset_tmp = [j + [i] for j in subset]\n",
    "        subset += subset_tmp\n",
    "    return [x for x in subset if len(x) == m]"
   ]
  },
  {
   "cell_type": "markdown",
   "id": "46b3cfb9",
   "metadata": {},
   "source": [
    "試用 enmu()"
   ]
  },
  {
   "cell_type": "code",
   "execution_count": 12,
   "id": "a3cc2ec6",
   "metadata": {},
   "outputs": [
    {
     "data": {
      "text/plain": [
       "[[0, 1],\n",
       " [0, 2],\n",
       " [1, 2],\n",
       " [0, 3],\n",
       " [1, 3],\n",
       " [2, 3],\n",
       " [0, 4],\n",
       " [1, 4],\n",
       " [2, 4],\n",
       " [3, 4]]"
      ]
     },
     "execution_count": 12,
     "metadata": {},
     "output_type": "execute_result"
    }
   ],
   "source": [
    "q2 = enmu(5,2)\n",
    "q2"
   ]
  },
  {
   "cell_type": "code",
   "execution_count": 13,
   "id": "0e86937b",
   "metadata": {},
   "outputs": [
    {
     "data": {
      "text/plain": [
       "[[0, 1, 2],\n",
       " [0, 1, 3],\n",
       " [0, 2, 3],\n",
       " [1, 2, 3],\n",
       " [0, 1, 4],\n",
       " [0, 2, 4],\n",
       " [1, 2, 4],\n",
       " [0, 3, 4],\n",
       " [1, 3, 4],\n",
       " [2, 3, 4]]"
      ]
     },
     "execution_count": 13,
     "metadata": {},
     "output_type": "execute_result"
    }
   ],
   "source": [
    "q3 = enmu(5,3)\n",
    "q3"
   ]
  },
  {
   "cell_type": "markdown",
   "id": "6f297993",
   "metadata": {},
   "source": [
    "使用 enum() 寫 p-median，比較emum() 所產生的組合,所有的p，都只需一個迴圈"
   ]
  },
  {
   "cell_type": "code",
   "execution_count": 14,
   "id": "fef19457",
   "metadata": {},
   "outputs": [],
   "source": [
    "# 3-MP min()中參數個數為P\n",
    "\n",
    "mp_3 = 9999\n",
    "mp_3_site = [0,1,2]\n",
    "for j in q3:\n",
    "    total = 0\n",
    "    for i in range(len(c)):\n",
    "        total += min(c[i][j[0]],c[i][j[1]],c[i][j[2]])\n",
    "    if total < mp_3:\n",
    "        mp_3 = total\n",
    "        mp_3_site = j"
   ]
  },
  {
   "cell_type": "markdown",
   "id": "4d7eea99",
   "metadata": {},
   "source": [
    "察看結果"
   ]
  },
  {
   "cell_type": "code",
   "execution_count": 15,
   "id": "ca08d548",
   "metadata": {},
   "outputs": [
    {
     "data": {
      "text/plain": [
       "(22, [0, 3, 4])"
      ]
     },
     "execution_count": 15,
     "metadata": {},
     "output_type": "execute_result"
    }
   ],
   "source": [
    "mp_3, mp_3_site"
   ]
  },
  {
   "cell_type": "markdown",
   "id": "f5a93f99",
   "metadata": {},
   "source": [
    "上面函數比較大小時，min()中的參數，因p而改變，需修改"
   ]
  },
  {
   "cell_type": "code",
   "execution_count": 16,
   "id": "3477d9af",
   "metadata": {},
   "outputs": [],
   "source": [
    "# p-MP，將 min() 一般化\n",
    "\n",
    "mp_3 = 9999\n",
    "mp_3_site = [0,1,2]\n",
    "for j in q3:\n",
    "    total = 0\n",
    "    for i in range(len(c)):\n",
    "        total += min([c[i][l] for l in j])\n",
    "    if total < mp_3:\n",
    "       mp_3 = total\n",
    "       mp_3_site = j"
   ]
  },
  {
   "cell_type": "markdown",
   "id": "c569997f",
   "metadata": {},
   "source": [
    "察看結果"
   ]
  },
  {
   "cell_type": "code",
   "execution_count": 17,
   "id": "571f303a",
   "metadata": {},
   "outputs": [
    {
     "data": {
      "text/plain": [
       "(22, [0, 3, 4])"
      ]
     },
     "execution_count": 17,
     "metadata": {},
     "output_type": "execute_result"
    }
   ],
   "source": [
    "mp_3, mp_3_site"
   ]
  },
  {
   "cell_type": "markdown",
   "id": "85840db2",
   "metadata": {},
   "source": [
    "## 通用p-median\n",
    "將上述過程，改為一般化的p-median函數，輸入cost及p即可用窮舉法得到解答\n",
    "c 為 cost matrix, row 為客戶, column 為設施\n",
    "p ： 欲選出設施數"
   ]
  },
  {
   "cell_type": "code",
   "execution_count": 18,
   "id": "9ff89edf",
   "metadata": {},
   "outputs": [],
   "source": [
    "# p-MP 一般化函數 \n",
    "# c 為 cost matrix, row 為客戶, column 為設施\n",
    "# p ： 欲選出設施數\n",
    "\n",
    "def p_mp(c,p):\n",
    "    m = len(c) \n",
    "    n = len(c[0])\n",
    "    tc = sum ([sum(b) for b in c])\n",
    "    q = enmu(n,p)\n",
    "    site = []\n",
    "    records= []\n",
    "    for j in q:\n",
    "        total = 0\n",
    "        for i in range(m):\n",
    "            total += min([c[i][l] for l in j])\n",
    "        records.append({'site':j,'cost':total})\n",
    "        if total < tc :\n",
    "            tc = total\n",
    "            site = j\n",
    "    return {'selected_site': site, 'min_cost':tc, 'records':records }"
   ]
  },
  {
   "cell_type": "markdown",
   "id": "1b698f59",
   "metadata": {},
   "source": [
    "試用 p-mp函數"
   ]
  },
  {
   "cell_type": "code",
   "execution_count": 19,
   "id": "4cc20e55",
   "metadata": {},
   "outputs": [
    {
     "data": {
      "text/plain": [
       "{'selected_site': [0, 4],\n",
       " 'min_cost': 25,\n",
       " 'records': [{'site': [0, 1], 'cost': 33},\n",
       "  {'site': [0, 2], 'cost': 39},\n",
       "  {'site': [1, 2], 'cost': 47},\n",
       "  {'site': [0, 3], 'cost': 30},\n",
       "  {'site': [1, 3], 'cost': 41},\n",
       "  {'site': [2, 3], 'cost': 44},\n",
       "  {'site': [0, 4], 'cost': 25},\n",
       "  {'site': [1, 4], 'cost': 34},\n",
       "  {'site': [2, 4], 'cost': 38},\n",
       "  {'site': [3, 4], 'cost': 30}]}"
      ]
     },
     "execution_count": 19,
     "metadata": {},
     "output_type": "execute_result"
    }
   ],
   "source": [
    "p_mp(c,2)"
   ]
  },
  {
   "cell_type": "markdown",
   "id": "b5fa117d",
   "metadata": {},
   "source": [
    "## p-center通用函數\n",
    "p-median 通用式，只要將比較各種組合的方式，改為比較各組合中最遠的元素。就可得到p-center的通用函數"
   ]
  },
  {
   "cell_type": "code",
   "execution_count": 20,
   "id": "c4879400",
   "metadata": {},
   "outputs": [],
   "source": [
    "def p_cp(c,p):\n",
    "    m = len(c) \n",
    "    n = len(c[0])\n",
    "    minmaxc = max ([max(b) for b in c])\n",
    "    q = enmu(n,p)\n",
    "    site = []\n",
    "    records= []\n",
    "    for j in q:\n",
    "        mc = []\n",
    "        for i in range(m):\n",
    "            mc.append(min([c[i][l] for l in j]))\n",
    "        records.append({'site':j,'cost':max(mc)})\n",
    "        if  max(mc) < minmaxc:\n",
    "            minmaxc = max(mc)\n",
    "            site = j\n",
    "    return {'selected_site': site, 'min_cost':minmaxc, 'records':records}"
   ]
  },
  {
   "cell_type": "markdown",
   "id": "8656049c",
   "metadata": {},
   "source": [
    "試用 p_cp"
   ]
  },
  {
   "cell_type": "code",
   "execution_count": 21,
   "id": "07869c15",
   "metadata": {},
   "outputs": [
    {
     "data": {
      "text/plain": [
       "{'selected_site': [0, 4],\n",
       " 'min_cost': 13,\n",
       " 'records': [{'site': [0, 1], 'cost': 18},\n",
       "  {'site': [0, 2], 'cost': 19},\n",
       "  {'site': [1, 2], 'cost': 18},\n",
       "  {'site': [0, 3], 'cost': 16},\n",
       "  {'site': [1, 3], 'cost': 16},\n",
       "  {'site': [2, 3], 'cost': 16},\n",
       "  {'site': [0, 4], 'cost': 13},\n",
       "  {'site': [1, 4], 'cost': 13},\n",
       "  {'site': [2, 4], 'cost': 13},\n",
       "  {'site': [3, 4], 'cost': 13}]}"
      ]
     },
     "execution_count": 21,
     "metadata": {},
     "output_type": "execute_result"
    }
   ],
   "source": [
    "p_cp(c,2)"
   ]
  },
  {
   "cell_type": "markdown",
   "id": "260e38db",
   "metadata": {},
   "source": [
    "## 進一步改進的可能\n",
    "如果在p_mp中增加一些選項，可以容易寫出更通用 p-location函數，但p-median 通用式，配合 hillsman editing，可能更為簡潔與通用。"
   ]
  },
  {
   "cell_type": "code",
   "execution_count": null,
   "id": "9ab81b15",
   "metadata": {},
   "outputs": [],
   "source": []
  }
 ],
 "metadata": {
  "kernelspec": {
   "display_name": "Python 3",
   "language": "python",
   "name": "python3"
  },
  "language_info": {
   "codemirror_mode": {
    "name": "ipython",
    "version": 3
   },
   "file_extension": ".py",
   "mimetype": "text/x-python",
   "name": "python",
   "nbconvert_exporter": "python",
   "pygments_lexer": "ipython3",
   "version": "3.7.11"
  }
 },
 "nbformat": 4,
 "nbformat_minor": 5
}
